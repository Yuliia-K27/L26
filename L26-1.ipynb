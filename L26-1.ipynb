{
 "cells": [
  {
   "cell_type": "code",
   "execution_count": 1,
   "id": "a5e1ae1d-4845-44d6-b17d-d9deeca28a05",
   "metadata": {},
   "outputs": [
    {
     "name": "stdout",
     "output_type": "stream",
     "text": [
      "Ймовірність того, що кількість телевізорів, які витримали гарантійний термін роботи, буде в межах [85;95]: 0.9364\n"
     ]
    }
   ],
   "source": [
    "import math\n",
    "\n",
    "def binomial_prob(n, p, k):\n",
    "    \"\"\"Розрахунок ймовірності для біноміального розподілу.\"\"\"\n",
    "    return math.comb(n, k) * p**k * (1-p)**(n-k)\n",
    "\n",
    "p = 0.9 # ймовірність витримки гарантійного терміну роботи\n",
    "n = 100 # загальна кількість телевізорів\n",
    "prob = sum(binomial_prob(n, p, k) for k in range(85, 96))\n",
    "\n",
    "print(f\"Ймовірність того, що кількість телевізорів, які витримали гарантійний термін роботи, буде в межах [85;95]: {prob:.4f}\")"
   ]
  },
  {
   "cell_type": "code",
   "execution_count": null,
   "id": "456ea8fb-05ae-4c4d-af56-349fa5abecaf",
   "metadata": {},
   "outputs": [],
   "source": []
  }
 ],
 "metadata": {
  "kernelspec": {
   "display_name": "Python 3 (ipykernel)",
   "language": "python",
   "name": "python3"
  },
  "language_info": {
   "codemirror_mode": {
    "name": "ipython",
    "version": 3
   },
   "file_extension": ".py",
   "mimetype": "text/x-python",
   "name": "python",
   "nbconvert_exporter": "python",
   "pygments_lexer": "ipython3",
   "version": "3.9.13"
  }
 },
 "nbformat": 4,
 "nbformat_minor": 5
}
